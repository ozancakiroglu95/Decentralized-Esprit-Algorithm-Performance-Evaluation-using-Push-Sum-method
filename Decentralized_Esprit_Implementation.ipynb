{
 "cells": [
  {
   "cell_type": "code",
   "execution_count": 1,
   "metadata": {},
   "outputs": [
    {
     "name": "stdout",
     "output_type": "stream",
     "text": [
      "SIGNAL POWER\n",
      "767.5536275410188\n",
      "NOISE POWER\n",
      "1.0153760717821165\n",
      "SIGNAL TO NOISE RATIO\n",
      "755.9303876384075\n",
      "\n",
      "  DOAs of the source signals in degrees with SNR: 60\n",
      "  DOAs of the source signals in degrees with N_samples: 900\n",
      "****************************************************************\n",
      "****************************************************************\n",
      "DOA of the first source signal:   4.842635716335423\n",
      "DOA of the second source signal:   -12.147432146420382\n",
      "DOA of the third source signal:   -8.947869186279801\n",
      "Cramer Rao Bound\n",
      "0.046915190297694115\n",
      "SIGNAL POWER\n",
      "726.9715671873571\n",
      "NOISE POWER\n",
      "1.0031448037720876\n",
      "SIGNAL TO NOISE RATIO\n",
      "724.6925513183674\n",
      "\n",
      "  DOAs of the source signals in degrees with SNR: 60\n",
      "  DOAs of the source signals in degrees with N_samples: 901\n",
      "****************************************************************\n",
      "****************************************************************\n",
      "DOA of the first source signal:   4.8767210991654295\n",
      "DOA of the second source signal:   -12.163029950548237\n",
      "DOA of the third source signal:   -8.98879510421721\n",
      "Cramer Rao Bound\n",
      "0.04685582639331221\n"
     ]
    },
    {
     "data": {
      "text/plain": [
       "array([0.04691519, 0.04685583])"
      ]
     },
     "execution_count": 1,
     "metadata": {},
     "output_type": "execute_result"
    }
   ],
   "source": [
    "from doa_rmse_and_cramer_rao import rmse_and_cramer_rao\n",
    "import numpy as np\n",
    "\n",
    "# Number of sensors\n",
    "M = 12\n",
    "\n",
    "# Number of nodes\n",
    "K = 6\n",
    "\n",
    "# Locations of the nodes with respect to initial node\n",
    "locations = (np.array([0,0]),np.array([0.45,0.99]),np.array([3.02,0.45]),np.array([5.61,0.90])\n",
    "             ,np.array([8.03,1.46]),np.array([8.70,0.50]))\n",
    "\n",
    "# Direction of arrivals\n",
    "angles = np.array([5,-14,-10])*2*(np.pi)/360\n",
    "K_l = np.array([np.sin(angles), np.cos(angles)])\n",
    "\n",
    "# Steering vector is implemented. It should have the shape: (12,3)\n",
    "for j in range(0,len(locations)):\n",
    "    for i in range(0,len(angles)):\n",
    "        first_part = np.exp(1j*np.pi*locations[j].dot(K_l[:,i]))\n",
    "        second_part = np.array([1, np.exp(1j*np.pi*1*np.sin(angles[i]))])\n",
    "        A_k = np.transpose(np.array(first_part*second_part, ndmin=2))\n",
    "        if i == 0:\n",
    "            B_k = A_k\n",
    "        else:\n",
    "            B_k = np.concatenate((B_k, A_k), axis=1)\n",
    "        \n",
    "        if i == len(angles)-1:\n",
    "            if j == 0:\n",
    "                A = np.transpose(B_k)\n",
    "            else:\n",
    "                A = np.concatenate((A, np.transpose(B_k)), axis=1)\n",
    "                \n",
    "A = np.transpose(A)\n",
    "iteration = 10\n",
    "SNR_range = (60,61)\n",
    "N_samples_range = (900,902)\n",
    "\n",
    "# Method_code = 1 is Average Consensus \n",
    "# Method_code = 2 is Push-Sum\n",
    "# Method_code = 3 is Conventional Esprit\n",
    "method_code = 2\n",
    "\n",
    "return_name = \"cramer\" \n",
    "#return_name = \"rmse\"\n",
    "\n",
    "rmse_and_cramer_rao(SNR_range, N_samples_range, iteration, A, angles, locations, K, method_code, return_name)"
   ]
  },
  {
   "cell_type": "code",
   "execution_count": null,
   "metadata": {},
   "outputs": [],
   "source": []
  }
 ],
 "metadata": {
  "kernelspec": {
   "display_name": "Python 3",
   "language": "python",
   "name": "python3"
  },
  "language_info": {
   "codemirror_mode": {
    "name": "ipython",
    "version": 3
   },
   "file_extension": ".py",
   "mimetype": "text/x-python",
   "name": "python",
   "nbconvert_exporter": "python",
   "pygments_lexer": "ipython3",
   "version": "3.7.4"
  },
  "varInspector": {
   "cols": {
    "lenName": 16,
    "lenType": 16,
    "lenVar": 40
   },
   "kernels_config": {
    "python": {
     "delete_cmd_postfix": "",
     "delete_cmd_prefix": "del ",
     "library": "var_list.py",
     "varRefreshCmd": "print(var_dic_list())"
    },
    "r": {
     "delete_cmd_postfix": ") ",
     "delete_cmd_prefix": "rm(",
     "library": "var_list.r",
     "varRefreshCmd": "cat(var_dic_list()) "
    }
   },
   "types_to_exclude": [
    "module",
    "function",
    "builtin_function_or_method",
    "instance",
    "_Feature"
   ],
   "window_display": false
  }
 },
 "nbformat": 4,
 "nbformat_minor": 4
}
