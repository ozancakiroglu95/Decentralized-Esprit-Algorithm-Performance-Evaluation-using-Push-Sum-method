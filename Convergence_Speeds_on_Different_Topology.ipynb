{
 "cells": [
  {
   "cell_type": "code",
   "execution_count": 1,
   "metadata": {},
   "outputs": [
    {
     "name": "stdout",
     "output_type": "stream",
     "text": [
      "Minimum converging iteration of Average Consensus protocol: 38\n",
      "Minimum converging iteration of Push-Sum protocol: 32\n"
     ]
    }
   ],
   "source": [
    "import numpy as np\n",
    "\n",
    "x = np.array([[1,2,3,4,5,6]]).T\n",
    "w = np.ones((6,1))\n",
    "\n",
    "# Push-Sum Matrix. \n",
    "# ***Topology in the paper***\n",
    "P_push_1 = np.array([[0.2,0.2,0.2,0  ,0  ,0],\n",
    "                     [0.2,0.2,0.2,0  ,0  ,0],\n",
    "                     [0.6,0.6,0.2,0.2,0  ,0],\n",
    "                     [0  ,0  ,0.4,0.2,0.2,0.2],\n",
    "                     [0  ,0  ,0  ,0.2,0.2,0.2],\n",
    "                     [0  ,0  ,0  ,0.4,0.6,0.6]])\n",
    "\n",
    "# ***Mesh topology***\n",
    "P_push_2 = np.array([[0.1,0.2,0.2,0.2,0.2,0.2],\n",
    "                     [0.2,0.1,0.2,0.1,0.2,0.1],\n",
    "                     [0.2,0.2,0.2,0.2,0.1,0.2],\n",
    "                     [0.2,0.1,0.1,0.2,0.2,0.2],\n",
    "                     [0.2,0.2,0.2,0.1,0.2,0.1],\n",
    "                     [0.1,0.2,0.1,0.2,0.1,0.2]])\n",
    "\n",
    "# ***Star topology***\n",
    "P_push_3 = np.array([[0.5,0  ,0  ,0.1,0  ,0 ],\n",
    "                     [0  ,0.5,0  ,0.1,0  ,0 ],\n",
    "                     [0  ,0  ,0.5,0.1,0  ,0 ],\n",
    "                     [0.5,0.5,0.5,0.5,0.5,0.5],\n",
    "                     [0  ,0  ,0  ,0.1,0.5,0 ],\n",
    "                     [0  ,0  ,0  ,0.1,0  ,0.5]])\n",
    "\n",
    "# ***Ring topology***\n",
    "P_push_4 = np.array([[0.9,0  ,0  ,0  ,0  ,0.6],\n",
    "                     [0.1,0.2,0  ,0  ,0  ,0  ],\n",
    "                     [0  ,0.8,0.3,0  ,0  ,0  ],\n",
    "                     [0  ,0  ,0.7,0.4,0  ,0  ],\n",
    "                     [0  ,0  ,0  ,0.6,0.5,0  ],\n",
    "                     [0  ,0  ,0  ,0  ,0.5,0.4]])\n",
    "\n",
    "# Average-Consensus Matrix (shape: (6,6))\n",
    "P_ave_1 = np.array([[0.17,0.5,0.33,0  ,0  ,0],\n",
    "                  [0.5,0.17,0.33,0  ,0  ,0],\n",
    "                  [0.33,0.33,0.01,0.33,0  ,0],\n",
    "                  [0  ,0  ,0.33,0.01,0.33,0.33],\n",
    "                  [0  ,0  ,0  ,0.33,0.17,0.5],\n",
    "                  [0  ,0  ,0  ,0.33,0.5,0.17]])\n",
    "\n",
    "# ***Mesh topology***\n",
    "P_ave_2 = np.array([[0.1,0.2,0.2,0.2,0.2,0.1],\n",
    "                    [0.2,0.1,0.2,0.1,0.2,0.2],\n",
    "                    [0.2,0.2,0.1,0.2,0.2,0.1],\n",
    "                    [0.2,0.1,0.2,0.2,0.1,0.2],\n",
    "                    [0.2,0.2,0.2,0.1,0.1,0.2],\n",
    "                    [0.1,0.2,0.1,0.2,0.2,0.2]])\n",
    "\n",
    "# ***Star topology***\n",
    "P_ave_3 = np.array([[0.9,0  ,0  ,0.1,0  ,0 ],\n",
    "                    [0  ,0.9,0  ,0.1,0  ,0 ],\n",
    "                    [0  ,0  ,0.9,0.1,0  ,0 ],\n",
    "                    [0.1,0.1,0.1,0.5,0.1,0.1],\n",
    "                    [0  ,0  ,0  ,0.1,0.9,0 ],\n",
    "                    [0  ,0  ,0  ,0.1,0  ,0.9]])\n",
    "\n",
    "# ***Ring topology***\n",
    "P_ave_4 = np.array([[0.5,0  ,0  ,0  ,0  ,0.5],\n",
    "                    [0.5,0.5,0  ,0  ,0  ,0  ],\n",
    "                    [0  ,0.5,0.5,0  ,0  ,0  ],\n",
    "                    [0  ,0  ,0.5,0.5,0  ,0  ],\n",
    "                    [0  ,0  ,0  ,0.5,0.5,0  ],\n",
    "                    [0  ,0  ,0  ,0  ,0.5,0.5]])\n",
    "\n",
    "\n",
    "for k in range(50):\n",
    "    ave_result = np.linalg.matrix_power(P_ave_1,k).dot(x)\n",
    "    if (all(abs(ave_result-(3.5)) < 0.005)):\n",
    "        print(\"Minimum converging iteration of Average Consensus protocol: \" + str(k))\n",
    "        break\n",
    "\n",
    "for k in range(50):\n",
    "    push_result = np.linalg.matrix_power(P_push_1,k).dot(x)/np.linalg.matrix_power(P_push_1,k).dot(w)\n",
    "    if (all(abs(push_result-(3.5)) < 0.005)):\n",
    "        print(\"Minimum converging iteration of Push-Sum protocol: \" + str(k))\n",
    "        break\n"
   ]
  },
  {
   "cell_type": "code",
   "execution_count": 2,
   "metadata": {},
   "outputs": [
    {
     "name": "stdout",
     "output_type": "stream",
     "text": [
      "Minimum converging iteration of Average Consensus protocol: 38\n",
      "Value of variable in minimum iteration: 0.01\n",
      "\n",
      "Minimum converging iteration of Push-Sum protocol: 27\n",
      "Value of variable in minimum iteration: 0.01\n"
     ]
    }
   ],
   "source": [
    "minimum_k = 50\n",
    "minimum_a = 0\n",
    "\n",
    "for k in range(50):\n",
    "    \n",
    "    for a in np.arange(0.01,1,0.01):\n",
    "    \n",
    "        P_ave = np.array([[(5*a+1)/6      ,(1-a)/2        ,(1-a)/3     ,0        ,0         ,0      ],\n",
    "                          [(1-a)/2        ,(5*a+1)/6      ,(1-a)/3     ,0        ,0         ,0      ],\n",
    "                          [(1-a)/3        ,(1-a)/3        ,a           ,(1-a)/3  ,0         ,0      ],\n",
    "                          [0              ,0              ,(1-a)/3     ,a        ,(1-a)/3   ,(1-a)/3],\n",
    "                          [0              ,0              ,0           ,(1-a)/3  ,(5*a+1)/6 ,(1-a)/2],\n",
    "                          [0              ,0              ,0           ,(1-a)/3  ,(1-a)/2   ,(5*a+1)/6 ]])\n",
    "        ave_result = np.linalg.matrix_power(P_ave,k).dot(x)\n",
    "        if (all(abs(ave_result-(3.5)) < 0.005)):\n",
    "            if k < minimum_k:\n",
    "                minimum_k = k\n",
    "                minimum_a = a\n",
    "                \n",
    "print(\"Minimum converging iteration of Average Consensus protocol: \" + str(minimum_k))\n",
    "print(\"Value of variable in minimum iteration: \" + str(minimum_a))\n",
    "\n",
    "                \n",
    "minimum_k = 50\n",
    "minimum_a = 0\n",
    "\n",
    "for k in range(50):\n",
    "    \n",
    "    for a in np.arange(0.01,1,0.01):\n",
    "    \n",
    "        P_push = np.array([[a     ,(1-a)/2,(1-a)/3 ,0      ,0      ,0      ],\n",
    "                          [(1-a)/2,a      ,(1-a)/3 ,0      ,0      ,0      ],\n",
    "                          [(1-a)/2,(1-a)/2,a       ,(1-a)/3,0      ,0      ],\n",
    "                          [0      ,0      ,(1-a)/3 ,a      ,(1-a)/2,(1-a)/2],\n",
    "                          [0      ,0      ,0       ,(1-a)/3,a      ,(1-a)/2],\n",
    "                          [0      ,0      ,0       ,(1-a)/3,(1-a)/2,a      ]])\n",
    "        push_result = np.linalg.matrix_power(P_push,k).dot(x)/np.linalg.matrix_power(P_push,k).dot(w)\n",
    "        if (all(abs(push_result-(3.5)) < 0.005)):\n",
    "            if k < minimum_k:\n",
    "                minimum_k = k\n",
    "                minimum_a = a\n",
    "                print()\n",
    "\n",
    "\n",
    "print(\"Minimum converging iteration of Push-Sum protocol: \"+ str(minimum_k))\n",
    "print(\"Value of variable in minimum iteration: \"+ str(minimum_a))"
   ]
  }
 ],
 "metadata": {
  "kernelspec": {
   "display_name": "Python 3",
   "language": "python",
   "name": "python3"
  },
  "language_info": {
   "codemirror_mode": {
    "name": "ipython",
    "version": 3
   },
   "file_extension": ".py",
   "mimetype": "text/x-python",
   "name": "python",
   "nbconvert_exporter": "python",
   "pygments_lexer": "ipython3",
   "version": "3.7.4"
  },
  "varInspector": {
   "cols": {
    "lenName": 16,
    "lenType": 16,
    "lenVar": 40
   },
   "kernels_config": {
    "python": {
     "delete_cmd_postfix": "",
     "delete_cmd_prefix": "del ",
     "library": "var_list.py",
     "varRefreshCmd": "print(var_dic_list())"
    },
    "r": {
     "delete_cmd_postfix": ") ",
     "delete_cmd_prefix": "rm(",
     "library": "var_list.r",
     "varRefreshCmd": "cat(var_dic_list()) "
    }
   },
   "types_to_exclude": [
    "module",
    "function",
    "builtin_function_or_method",
    "instance",
    "_Feature"
   ],
   "window_display": false
  }
 },
 "nbformat": 4,
 "nbformat_minor": 4
}
